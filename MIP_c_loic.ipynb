{
 "cells": [
  {
   "cell_type": "code",
   "execution_count": null,
   "metadata": {},
   "outputs": [],
   "source": [
    "# imports\n",
    "import os, sys\n",
    "import numpy as np\n",
    "import tensorflow as tf\n",
    "import voxelmorph as vxm\n",
    "import neurite as ne\n",
    "assert tf.__version__.startswith('2.'), 'This tutorial assumes Tensorflow 2.0+'\n",
    "import h5py\n",
    "import matplotlib.pyplot as plt\n",
    "\n",
    "import utilitary as util"
   ]
  },
  {
   "cell_type": "code",
   "execution_count": null,
   "metadata": {},
   "outputs": [],
   "source": [
    "hf = h5py.File(\"dataset2.h5\", \"r\")"
   ]
  },
  {
   "cell_type": "code",
   "execution_count": null,
   "metadata": {},
   "outputs": [],
   "source": [
    "keys = hf.keys()\n",
    "use_key = util.remove_empty_key(hf, keys)\n",
    "x,y,z = hf.get('0')['frame'][0].shape\n",
    "       \n",
    "nb_entries = len(use_key) \n",
    "list_keys = list(use_key)"
   ]
  },
  {
   "cell_type": "code",
   "execution_count": null,
   "metadata": {},
   "outputs": [],
   "source": [
    "r_MIP = util.red_MIP(hf, list_keys[:50], axis = 2)"
   ]
  },
  {
   "cell_type": "code",
   "execution_count": null,
   "metadata": {},
   "outputs": [],
   "source": [
    "# Plot true RGB MIP images\n",
    "i=5\n",
    "j=5\n",
    "idx= np.random.randint(0,50,i*j)\n",
    "plots = [r_MIP[i] for i in idx]\n",
    "ne.plot.slices(plots, do_colorbars=True, grid = [i,j]);"
   ]
  },
  {
   "cell_type": "code",
   "execution_count": null,
   "metadata": {},
   "outputs": [],
   "source": [
    "MIP, _ = util.find_contour(r_MIP,0.8,blur=5)\n",
    "\n",
    "# Plot true RGB MIP images\n",
    "i=5\n",
    "j=5\n",
    "plots = [MIP[i] for i in idx]\n",
    "ne.plot.slices(plots, do_colorbars=True, grid = [i,j]);"
   ]
  },
  {
   "cell_type": "code",
   "execution_count": null,
   "metadata": {},
   "outputs": [],
   "source": [
    "plots = [util.crop_ctr_mass(r_MIP[i]) for i in idx]\n",
    "ne.plot.slices(plots, do_colorbars=True, grid = [i,j]);"
   ]
  },
  {
   "cell_type": "code",
   "execution_count": null,
   "metadata": {},
   "outputs": [],
   "source": [
    "plots = [util.crop_ctr_mass(MIP[i]) for i in idx]\n",
    "ne.plot.slices(plots, do_colorbars=True, grid = [i,j]);"
   ]
  },
  {
   "cell_type": "code",
   "execution_count": null,
   "metadata": {},
   "outputs": [],
   "source": [
    "from scipy import ndimage\n",
    "#vizualize the center of mass\n",
    "idx = np.random.randint(0,50)\n",
    "\n",
    "(x, y) = ndimage.center_of_mass(MIP[idx])\n",
    "x, y = int(x), int(y)\n",
    "bis = MIP[idx]\n",
    "coord = [(x-i,y-j) for i in range(0,4) for j in range(0,4)]\n",
    "for pos in coord:\n",
    "    bis[pos] = 0.5\n",
    "ne.plot.slices(bis, do_colorbars=True, grid = [1,1]);"
   ]
  },
  {
   "cell_type": "code",
   "execution_count": null,
   "metadata": {},
   "outputs": [],
   "source": [
    "#\n",
    "# Split train-validation set\n",
    "# 80% train - 20% validation\n",
    "ratio = 0.8\n",
    "keys_random = np.random.permutation(nb_entries)\n",
    "keys_train = keys_random[:int(nb_entries * ratio)]\n",
    "keys_test  = keys_random[int(nb_entries * ratio):]\n",
    "\n",
    "\n",
    "#train on contours\n",
    "#projection on z plan\n",
    "r_MIP = util.red_MIP(hf, list_keys, axis = 2)\n",
    "\n",
    "#find the contour\n",
    "contours, all_ret = util.find_contour(r_MIP)"
   ]
  },
  {
   "cell_type": "code",
   "execution_count": null,
   "metadata": {},
   "outputs": [],
   "source": [
    "#cropping center of mass\n",
    "#slices_train = np.array([util.crop_ctr_mass(r_MIP[i],200) for i in keys_train])\n",
    "#slices_test  = np.array([util.crop_ctr_mass(r_MIP[i],200) for i in keys_test])\n",
    "slices_train = np.array([util.crop_ctr_mass(contours[i],128) for i in keys_train])\n",
    "slices_test  = np.array([util.crop_ctr_mass(contours[i],128) for i in keys_test])"
   ]
  },
  {
   "cell_type": "code",
   "execution_count": null,
   "metadata": {},
   "outputs": [],
   "source": [
    "plots = [slices_train[i] for i in [7,2,5,98]]\n",
    "ne.plot.slices(plots, do_colorbars=True, grid = [2,2]);\n",
    "\n",
    "print(slices_train.shape)"
   ]
  },
  {
   "cell_type": "code",
   "execution_count": null,
   "metadata": {},
   "outputs": [],
   "source": [
    "# UNET architecture\n",
    "\n",
    "vol_shape = slices_train[0].shape\n",
    "nb_features = [\n",
    "    [16, 32, 32, 32],             # encoder\n",
    "    [32, 32, 32, 32, 32, 16, 16]  # decoder\n",
    "]\n",
    "\n",
    "# build vxm network using VxmDense\n",
    "vxm_model = vxm.networks.VxmDense(vol_shape, nb_features, int_steps=0);\n",
    "\n",
    "# Losses : MSE + smoothness (regularization) \n",
    "losses = ['mse', vxm.losses.Grad('l2').loss]\n",
    "\n",
    "# Regularizer\n",
    "lambdas = np.logspace(-4,0,5)\n",
    "for lambda_ in lambdas :\n",
    "\n",
    "    loss_weights = [1, lambda_]\n",
    "    \n",
    "#     vxm_model = tf.keras.utils.multi_gpu_model(vxm_model, gpus=2)\n",
    "    # Adam optimizer learning rate\n",
    "    vxm_model.compile(optimizer=tf.keras.optimizers.Adam(lr=1e-4), loss=losses, loss_weights=loss_weights)\n",
    "    \n",
    "    # Training\n",
    "    train_generator = util.vxm_data_generator(slices_train, 12, batch_size = 20)\n",
    "    hist = vxm_model.fit(train_generator, epochs=10, steps_per_epoch= 100, verbose=1);\n",
    "    # Visualize the losses\n",
    "    util.plot_history(hist, save_name = str(lambda_))\n",
    "    title = \"weights\" + str(lambda_) + \".keras\"\n",
    "    # If it looks ok => save the weights\n",
    "    vxm_model.save_weights(title)"
   ]
  },
  {
   "cell_type": "code",
   "execution_count": null,
   "metadata": {},
   "outputs": [],
   "source": [
    "# Load the best weights found\n",
    "title = \"weights\" + str(lambdas[-2]) + \".keras\"\n",
    "vxm_model.load_weights(title)\n",
    "\n",
    "# Validation set generator\n",
    "val_generator = util.vxm_data_generator(slices_test, 12, batch_size = 15)\n",
    "val_input, _ = next(val_generator)\n",
    "our_val_pred = vxm_model.predict(val_input);"
   ]
  },
  {
   "cell_type": "code",
   "execution_count": null,
   "metadata": {},
   "outputs": [],
   "source": [
    "moving = np.squeeze(val_input[0])\n",
    "fixed = np.squeeze(val_input[1])\n",
    "moved = np.squeeze(our_val_pred[0])\n",
    "\n",
    "a = [moved[i, ...] for i in range(5)]\n",
    "b = [moving[i, ...] for i in range(5)]\n",
    "c = [fixed[i, ...] for i in range(5)]\n",
    "\n",
    "\n",
    "# Moving\n",
    "ne.plot.slices(b, do_colorbars=True);\n",
    "# Moved\n",
    "ne.plot.slices(a, do_colorbars=True);\n",
    "# Fixed\n",
    "ne.plot.slices(c, do_colorbars=True);"
   ]
  },
  {
   "cell_type": "code",
   "execution_count": null,
   "metadata": {},
   "outputs": [],
   "source": [
    "slices_train = np.array([util.crop_ctr_mass(r_MIP[i],128) for i in keys_train])\n",
    "slices_test  = np.array([util.crop_ctr_mass(r_MIP[i],128) for i in keys_test])\n",
    "\n",
    "vol_shape = slices_train[0].shape\n",
    "nb_features = [\n",
    "    [16, 32, 32, 32],             # encoder\n",
    "    [32, 32, 32, 32, 32, 16, 16]  # decoder\n",
    "]\n",
    "\n",
    "# build vxm network using VxmDense\n",
    "vxm_model = vxm.networks.VxmDense(vol_shape, nb_features, int_steps=0);\n",
    "\n",
    "# Losses : MSE + smoothness (regularization) \n",
    "losses = ['mse', vxm.losses.Grad('l2').loss]\n",
    "\n",
    "# Regularizer\n",
    "lambdas = np.logspace(-4,0,5)\n",
    "for lambda_ in lambdas :\n",
    "\n",
    "    loss_weights = [1, lambda_]\n",
    "    \n",
    "    # vxm_model = tf.keras.utils.multi_gpu_model(vxm_model, gpus=2)\n",
    "    # Adam optimizer learning rate\n",
    "    vxm_model.compile(optimizer=tf.keras.optimizers.Adam(lr=1e-4), loss=losses, loss_weights=loss_weights)\n",
    "    \n",
    "    # Training\n",
    "    train_generator = util.vxm_data_generator(slices_train, 12, batch_size = 20)\n",
    "    hist = vxm_model.fit(train_generator, epochs=10, steps_per_epoch= 100, verbose=1);\n",
    "    # Visualize the losses\n",
    "    util.plot_history(hist, save_name = str(lambda_))\n",
    "    title = \"weights_rchan\" + str(lambda_) + \".keras\"\n",
    "    # If it looks ok => save the weights\n",
    "    vxm_model.save_weights(title)"
   ]
  },
  {
   "cell_type": "code",
   "execution_count": null,
   "metadata": {},
   "outputs": [],
   "source": [
    "# Load the best weights found\n",
    "title = \"weights_rchan\" + str(lambdas[-1]) + \".keras\"\n",
    "vxm_model.load_weights(title)\n",
    "\n",
    "# Validation set generator\n",
    "val_generator = util.vxm_data_generator(slices_test, 52, batch_size = 15)\n",
    "val_input, _ = next(val_generator)\n",
    "our_val_pred = vxm_model.predict(val_input);\n",
    "\n",
    "moving = np.squeeze(val_input[0])\n",
    "fixed = np.squeeze(val_input[1])\n",
    "moved = np.squeeze(our_val_pred[0])\n",
    "\n",
    "a = [moved[i, ...] for i in range(5)]\n",
    "b = [moving[i, ...] for i in range(5)]\n",
    "c = [fixed[i, ...] for i in range(5)]\n",
    "\n",
    "\n",
    "# Moving\n",
    "ne.plot.slices(b, do_colorbars=True);\n",
    "# Moved\n",
    "ne.plot.slices(a, do_colorbars=True);\n",
    "# Fixed\n",
    "ne.plot.slices(c, do_colorbars=True);"
   ]
  },
  {
   "cell_type": "code",
   "execution_count": null,
   "metadata": {},
   "outputs": [],
   "source": []
  },
  {
   "cell_type": "code",
   "execution_count": null,
   "metadata": {},
   "outputs": [],
   "source": []
  },
  {
   "cell_type": "code",
   "execution_count": null,
   "metadata": {},
   "outputs": [],
   "source": []
  },
  {
   "cell_type": "code",
   "execution_count": null,
   "metadata": {},
   "outputs": [],
   "source": []
  },
  {
   "cell_type": "code",
   "execution_count": null,
   "metadata": {},
   "outputs": [],
   "source": []
  }
 ],
 "metadata": {
  "kernelspec": {
   "display_name": "Python 3",
   "language": "python",
   "name": "python3"
  },
  "language_info": {
   "codemirror_mode": {
    "name": "ipython",
    "version": 3
   },
   "file_extension": ".py",
   "mimetype": "text/x-python",
   "name": "python",
   "nbconvert_exporter": "python",
   "pygments_lexer": "ipython3",
   "version": "3.7.6"
  }
 },
 "nbformat": 4,
 "nbformat_minor": 4
}
