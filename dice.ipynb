{
 "cells": [
  {
   "cell_type": "code",
   "execution_count": 1,
   "metadata": {},
   "outputs": [],
   "source": [
    "# voxel morph imports\n",
    "import tensorflow as tf\n",
    "import voxelmorph as vxm\n",
    "assert tf.__version__.startswith('2.'), 'This tutorial assumes Tensorflow 2.0+'\n",
    "\n",
    "import numpy as np\n",
    "import h5py\n",
    "\n",
    "import utilitary as util\n",
    "\n",
    "#plotting\n",
    "import matplotlib.pyplot as plt\n",
    "import neurite as ne"
   ]
  },
  {
   "cell_type": "code",
   "execution_count": 2,
   "metadata": {},
   "outputs": [],
   "source": [
    "hf = h5py.File(\"epfl3.h5\", \"r\")"
   ]
  },
  {
   "cell_type": "code",
   "execution_count": 3,
   "metadata": {},
   "outputs": [],
   "source": [
    "np.random.seed(336699)\n",
    "\n",
    "nb_entries = len(hf.keys())\n",
    "list_keys = list(hf.keys())\n",
    "keys_random = np.random.permutation(list_keys)\n",
    "\n",
    "keys_train = keys_random[:int(nb_entries*0.8)]\n",
    "keys_test  = keys_random[int(nb_entries*0.8):]\n",
    "\n",
    "#x,y,z = hf.get(\"0\")[\"frame\"][0].shape"
   ]
  },
  {
   "cell_type": "code",
   "execution_count": 4,
   "metadata": {},
   "outputs": [],
   "source": [
    "# keys in test with labels mask\n",
    "mask_tests = []\n",
    "for i in keys_test:\n",
    "    if len(hf.get(i)) > 1:\n",
    "        mask_tests.append(i)\n",
    "        \n",
    "# keys in test with labels mask\n",
    "mask_trains = []\n",
    "for i in keys_train:\n",
    "    if len(hf.get(i)) > 1:\n",
    "        mask_trains.append(i)"
   ]
  },
  {
   "cell_type": "markdown",
   "metadata": {},
   "source": [
    "## Semi-supervised"
   ]
  },
  {
   "cell_type": "code",
   "execution_count": 5,
   "metadata": {},
   "outputs": [
    {
     "name": "stdout",
     "output_type": "stream",
     "text": [
      "WARNING:tensorflow:From /home/toinou/Documents/venvs/pyt3.8/lib/python3.8/site-packages/tensorflow/python/util/deprecation.py:574: calling map_fn_v2 (from tensorflow.python.ops.map_fn) with dtype is deprecated and will be removed in a future version.\n",
      "Instructions for updating:\n",
      "Use fn_output_signature instead\n"
     ]
    }
   ],
   "source": [
    "vol_shape = (112, 112, 32)\n",
    "nb_features = [\n",
    "    [16, 32, 32, 32],\n",
    "    [32, 32, 32, 32, 32, 16, 16]\n",
    "]\n",
    "\n",
    "label_vals = np.array([1,2,3,4,5,6,7])\n",
    "\n",
    "vxm_model = vxm.networks.VxmDenseSemiSupervisedSeg(\n",
    "                                        inshape=vol_shape,\n",
    "                                        nb_labels=len(label_vals),\n",
    "                                        nb_unet_features=nb_features,\n",
    "                                        int_steps=0);\n",
    "key_fixed = 904\n",
    "\n",
    "\n",
    "fixed_vol = np.array(hf.get(str(key_fixed))[\"frame\"][0][:,:,:])/255\n",
    "fixed_seg = np.array(hf.get(str(key_fixed))[\"mask\"])\n",
    "\n",
    "#lambda_ = 0.05\n",
    "#title = \"wght_3d_semisup_\" + str(lambda_) + \".keras\"\n",
    "vxm_model.load_weights(f\"weights/wght_3d_semisup_f1_250step_0.05.keras\")"
   ]
  },
  {
   "cell_type": "code",
   "execution_count": 12,
   "metadata": {
    "scrolled": false
   },
   "outputs": [],
   "source": [
    "### PREDICTION ON UNSEEN DATA\n",
    "\n",
    "#val -> test npz\n",
    "vols_names = ['vol'+str(i)+'.npz' for i in keys_test]\n",
    "\n",
    "predict_generator = vxm.generators.semisupervised(\n",
    "                        vol_names=vols_names,\n",
    "                        labels=label_vals)\n",
    "\n",
    "val_input = [next(predict_generator) for i in range(len(mask_tests))]\n",
    "\n",
    "# predict the transformation\n",
    "val_pred = []\n",
    "for i in range(len(mask_tests)):\n",
    "    val_pred.append(vxm_model.predict(val_input[i]))\n",
    "    \n",
    "#warp_generator = util.vxm_data_generator(slices_train_3d_mask,\n",
    "                                         # vol_fixed=fixed_vol,\n",
    "                                          #batch_size=1)"
   ]
  },
  {
   "cell_type": "code",
   "execution_count": 14,
   "metadata": {},
   "outputs": [],
   "source": [
    "### PREDICTION ON TRAINING DATA\n",
    "\n",
    "#vol -> training npz\n",
    "vols_names_tr = ['vol'+str(i)+'.npz' for i in keys_train]\n",
    "\n",
    "predict_generator = vxm.generators.semisupervised(\n",
    "                        vol_names=vols_names_tr,\n",
    "                        labels=label_vals)\n",
    "\n",
    "\n",
    "val_input = [next(predict_generator) for i in range(len(mask_trains))]\n",
    "\n",
    "# predict the transformation\n",
    "val_pred = []\n",
    "for i in range(len(mask_trains)):\n",
    "    val_pred.append(vxm_model.predict(val_input[i]))"
   ]
  },
  {
   "cell_type": "markdown",
   "metadata": {},
   "source": [
    "# predict the transformation"
   ]
  },
  {
   "cell_type": "code",
   "execution_count": 7,
   "metadata": {},
   "outputs": [],
   "source": [
    "def dice_coef(pred, true, k = 7):\n",
    "    intersection = np.sum(pred[true==k]) * 2.0\n",
    "    dice = intersection / (np.sum(pred) + np.sum(true))\n",
    "    # returns values between 0 and 1\n",
    "    return 1-dice\n",
    "\n",
    "def avg_dice_score(pred, true):\n",
    "    dice_score = []\n",
    "    for i in range(pred.shape[0]):\n",
    "        dice_score.append(dice_coef(pred[i],true))\n",
    "    return np.mean(dice_score), np.std(dice_score)"
   ]
  },
  {
   "cell_type": "code",
   "execution_count": 14,
   "metadata": {},
   "outputs": [],
   "source": [
    "warp_model = vxm.networks.Transform(vol_shape, interp_method='nearest')"
   ]
  },
  {
   "cell_type": "code",
   "execution_count": 15,
   "metadata": {},
   "outputs": [
    {
     "name": "stdout",
     "output_type": "stream",
     "text": [
      "before warping (rough alignment)\n",
      "0.5216618685645417\n",
      "0.21607205946976824\n",
      "after warping\n",
      "0.4839568048861049\n",
      "0.17836589369542746\n"
     ]
    }
   ],
   "source": [
    "#checking that it's the right prediction vector\n",
    "assert (len(mask_tests) == len(val_pred))\n",
    "\n",
    "#load the test set + normalization\n",
    "#slices_test_3d_frame = np.empty((len(mask_tests),112,112,32))\n",
    "slices_test_3d_mask = np.empty((len(mask_tests),112,112,32))\n",
    "for i, key in enumerate(mask_tests):\n",
    "    #slices_test_3d_frame[i] = np.array(hf.get(key)[\"frame\"][0][:,:,:])/255\n",
    "    slices_test_3d_mask[i] = np.array(hf.get(key)[\"mask\"])\n",
    "    #slices_test_3d_mask[i][np.where(slices_train_3d_mask[i] != 4)] = 0\n",
    "\n",
    "# predict the labels transformation (unseen data)\n",
    "warped_seg = [warp_model.predict([slices_test_3d_mask[i][np.newaxis,...,np.newaxis], val_pred[i][1]]) for i in range(len(mask_tests))]\n",
    "\n",
    "mean_dice, std_dice = avg_dice_score(slices_test_3d_mask, fixed_seg)\n",
    "print(\"before warping (rough alignment)\")\n",
    "print(mean_dice)\n",
    "print(std_dice)\n",
    "warped_seg = np.array(warped_seg)\n",
    "mean_dice, std_dice = avg_dice_score(warped_seg.squeeze(), fixed_seg)\n",
    "print(\"after warping\")\n",
    "print(mean_dice)\n",
    "print(std_dice)"
   ]
  },
  {
   "cell_type": "code",
   "execution_count": 15,
   "metadata": {},
   "outputs": [
    {
     "name": "stdout",
     "output_type": "stream",
     "text": [
      "before warping (rough alignment)\n",
      "0.4376672502232306\n",
      "0.1552436469968646\n",
      "after warping\n",
      "0.4455699188694078\n",
      "0.15495228932038949\n"
     ]
    }
   ],
   "source": [
    "#checking that it's the right prediction vector\n",
    "assert (len(mask_trains) == len(val_pred))\n",
    "    \n",
    "#load the training set + normalization\n",
    "#slices_train_3d_frame = np.empty((len(mask_trains),112,112,32))\n",
    "slices_train_3d_mask = np.empty((len(mask_trains),112,112,32))\n",
    "for i, key in enumerate(mask_trains):\n",
    "    #slices_train_3d_frame[i] = np.array(hf.get(key)[\"frame\"][0][:,:,:])/255\n",
    "    slices_train_3d_mask[i] = np.array(hf.get(key)[\"mask\"])\n",
    "    #slices_train_3d_mask[i][np.where(slices_train_3d_mask[i] != 4)] = 0\n",
    "\n",
    "# predict the labels transformation (training data)\n",
    "warped_seg = [warp_model.predict([slices_train_3d_mask[i][np.newaxis,...,np.newaxis], val_pred[i][1]]) for i in range(len(mask_trains))]\n",
    "\n",
    "mean_dice, std_dice = avg_dice_score(slices_train_3d_mask, fixed_seg)\n",
    "print(\"before warping (rough alignment)\")\n",
    "print(mean_dice)\n",
    "print(std_dice)\n",
    "warped_seg = np.array(warped_seg)\n",
    "mean_dice, std_dice = avg_dice_score(warped_seg.squeeze(), fixed_seg)\n",
    "print(\"after warping\")\n",
    "print(mean_dice)\n",
    "print(std_dice)"
   ]
  },
  {
   "cell_type": "code",
   "execution_count": 24,
   "metadata": {},
   "outputs": [
    {
     "data": {
      "image/png": "[encoded data removed]",
      "text/plain": [
       "<Figure size 1080x360 with 3 Axes>"
      ]
     },
     "metadata": {
      "needs_background": "light"
     },
     "output_type": "display_data"
    },
    {
     "data": {
      "text/plain": [
       "(<Figure size 1080x360 with 3 Axes>,\n",
       " array([<AxesSubplot:>, <AxesSubplot:>, <AxesSubplot:>], dtype=object))"
      ]
     },
     "execution_count": 24,
     "metadata": {},
     "output_type": "execute_result"
    }
   ],
   "source": [
    "idx = 15\n",
    "ne.plot.slices([np.max(slices_test_3d_mask[idx],axis=2),\n",
    "                np.max(fixed_seg, axis=2),\n",
    "                np.max(slices_train_3d_mask[idx],axis=2) \\\n",
    "                    - \\\n",
    "                np.max(warped_seg[idx].squeeze(),axis=2)])"
   ]
  },
  {
   "cell_type": "code",
   "execution_count": 17,
   "metadata": {
    "scrolled": true
   },
   "outputs": [
    {
     "data": {
      "image/png": "[encoded data removed]",
      "text/plain": [
       "<Figure size 1080x540 with 2 Axes>"
      ]
     },
     "metadata": {
      "needs_background": "light"
     },
     "output_type": "display_data"
    },
    {
     "data": {
      "text/plain": [
       "(<Figure size 1080x540 with 2 Axes>,\n",
       " array([<AxesSubplot:>, <AxesSubplot:>], dtype=object))"
      ]
     },
     "execution_count": 17,
     "metadata": {},
     "output_type": "execute_result"
    }
   ],
   "source": [
    "ne.plot.slices([(np.max(slices_train_3d_mask[13],axis=2)-np.max(warped_seg[13].squeeze(),axis=2)), np.max(fixed_seg, axis=2)])"
   ]
  },
  {
   "cell_type": "code",
   "execution_count": 25,
   "metadata": {},
   "outputs": [
    {
     "data": {
      "text/plain": [
       "-74.0"
      ]
     },
     "execution_count": 25,
     "metadata": {},
     "output_type": "execute_result"
    }
   ],
   "source": [
    "(np.max(slices_train_3d_mask[13],axis=2)-np.max(warped_seg[13].squeeze(),axis=2)).sum()"
   ]
  },
  {
   "cell_type": "code",
   "execution_count": 26,
   "metadata": {
    "scrolled": true
   },
   "outputs": [
    {
     "data": {
      "text/plain": [
       "-1315.0"
      ]
     },
     "execution_count": 26,
     "metadata": {},
     "output_type": "execute_result"
    }
   ],
   "source": [
    "(slices_train_3d_mask[13]-warped_seg[13].squeeze()).sum()"
   ]
  },
  {
   "cell_type": "code",
   "execution_count": 9,
   "metadata": {},
   "outputs": [],
   "source": [
    "# load all masks\n",
    "slices_all_3d_mask = np.empty((len(mask_tests+mask_trains),112,112,32))\n",
    "for i, key in enumerate(mask_tests+mask_trains):\n",
    "    slices_all_3d_mask[i] = np.array(hf.get(key)[\"mask\"])"
   ]
  },
  {
   "cell_type": "code",
   "execution_count": 10,
   "metadata": {},
   "outputs": [
    {
     "name": "stdout",
     "output_type": "stream",
     "text": [
      "0.9941828912510364\n",
      "0.9951313420564355\n",
      "0.9956346637599899\n",
      "0.9968879050712933\n",
      "0.9976139811273226\n",
      "1.0\n"
     ]
    }
   ],
   "source": [
    "#find the key of the frame offering the best prealignment reference\n",
    "\n",
    "max_holder = [-1,-1]\n",
    "max_key = -1\n",
    "for key in mask_tests+mask_trains:\n",
    "\n",
    "    fixed_seg = np.array(hf.get(str(key))[\"mask\"])\n",
    "\n",
    "    mean_dice, std_dice = avg_dice_score(slices_all_3d_mask, fixed_seg)\n",
    "    if mean_dice > max_holder[0]:\n",
    "        max_key = key\n",
    "        max_holder = mean_dice, std_dice\n",
    "        print(mean_dice)"
   ]
  },
  {
   "cell_type": "code",
   "execution_count": 11,
   "metadata": {},
   "outputs": [
    {
     "name": "stdout",
     "output_type": "stream",
     "text": [
      "(1.0, 0.0)\n",
      "1454\n"
     ]
    }
   ],
   "source": [
    "print(max_holder)\n",
    "print(max_key)"
   ]
  },
  {
   "cell_type": "markdown",
   "metadata": {},
   "source": [
    "# Semi-supervised (Code pas terminé à partir de là)"
   ]
  }
 ],
 "metadata": {
  "kernelspec": {
   "display_name": "Python 3",
   "language": "python",
   "name": "python3"
  },
  "language_info": {
   "codemirror_mode": {
    "name": "ipython",
    "version": 3
   },
   "file_extension": ".py",
   "mimetype": "text/x-python",
   "name": "python",
   "nbconvert_exporter": "python",
   "pygments_lexer": "ipython3",
   "version": "3.8.6"
  }
 },
 "nbformat": 4,
 "nbformat_minor": 4
}
