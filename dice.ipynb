{
 "cells": [
  {
   "cell_type": "code",
   "execution_count": 1,
   "metadata": {},
   "outputs": [],
   "source": [
    "# voxel morph imports\n",
    "import tensorflow as tf\n",
    "import voxelmorph as vxm\n",
    "assert tf.__version__.startswith('2.'), 'This tutorial assumes Tensorflow 2.0+'\n",
    "\n",
    "import numpy as np\n",
    "import h5py\n",
    "\n",
    "import utilitary as util\n",
    "\n",
    "#plotting\n",
    "import matplotlib.pyplot as plt\n",
    "import neurite as ne"
   ]
  },
  {
   "cell_type": "code",
   "execution_count": 2,
   "metadata": {},
   "outputs": [],
   "source": [
    "hf = h5py.File(\"epfl3.h5\", \"r\")"
   ]
  },
  {
   "cell_type": "code",
   "execution_count": 3,
   "metadata": {},
   "outputs": [],
   "source": [
    "np.random.seed(336699)\n",
    "\n",
    "nb_entries = len(hf.keys())\n",
    "list_keys = list(hf.keys())\n",
    "keys_random = np.random.permutation(list_keys)\n",
    "\n",
    "keys_train = keys_random[:int(nb_entries*0.8)]\n",
    "keys_test  = keys_random[int(nb_entries*0.8):]\n",
    "\n",
    "#x,y,z = hf.get(\"0\")[\"frame\"][0].shape"
   ]
  },
  {
   "cell_type": "code",
   "execution_count": 4,
   "metadata": {},
   "outputs": [],
   "source": [
    "# keys in test with labels mask\n",
    "mask_tests = []\n",
    "for i in keys_test:\n",
    "    if len(hf.get(i)) > 1:\n",
    "        mask_tests.append(i)\n",
    "        \n",
    "# keys in test with labels mask\n",
    "mask_trains = []\n",
    "for i in keys_train:\n",
    "    if len(hf.get(i)) > 1:\n",
    "        mask_trains.append(i)"
   ]
  },
  {
   "cell_type": "markdown",
   "metadata": {},
   "source": [
    "## Semi-supervised"
   ]
  },
  {
   "cell_type": "code",
   "execution_count": 5,
   "metadata": {},
   "outputs": [
    {
     "name": "stdout",
     "output_type": "stream",
     "text": [
      "WARNING:tensorflow:From /home/toinou/Documents/venvs/pyt3.8/lib/python3.8/site-packages/tensorflow/python/util/deprecation.py:574: calling map_fn_v2 (from tensorflow.python.ops.map_fn) with dtype is deprecated and will be removed in a future version.\n",
      "Instructions for updating:\n",
      "Use fn_output_signature instead\n"
     ]
    }
   ],
   "source": [
    "vol_shape = (112, 112, 32)\n",
    "nb_features = [\n",
    "    [16, 32, 32, 32],\n",
    "    [32, 32, 32, 32, 32, 16, 16]\n",
    "]\n",
    "\n",
    "label_vals = np.array([1,2,3,4,5,6,7])\n",
    "\n",
    "vxm_model = vxm.networks.VxmDenseSemiSupervisedSeg(\n",
    "                                        inshape=vol_shape,\n",
    "                                        nb_labels=len(label_vals),\n",
    "                                        nb_unet_features=nb_features,\n",
    "                                        int_steps=0);\n",
    "key_fixed = 904\n",
    "\n",
    "\n",
    "fixed_vol = np.array(hf.get(str(key_fixed))[\"frame\"][0][:,:,:])/255\n",
    "fixed_seg = np.array(hf.get(str(key_fixed))[\"mask\"])\n",
    "\n",
    "## MSE\n",
    "#vxm_model.load_weights(\"semisup5e-5_all_labels5e-05.keras\")\n",
    "#vxm_model.load_weights(\"semisup5e-2_all_labels5e-02.keras\")\n",
    "#vxm_model.load_weights(\"semisup_01_all_labels0.1.keras\")\n",
    "\n",
    "##NCC\n",
    "#vxm_model.load_weights(\"semisup_ncc_all_labels_32epoch0.9.keras\")\n",
    "vxm_model.load_weights(\"semisup_06_all_labels_ncc0.6.keras\")"
   ]
  },
  {
   "cell_type": "code",
   "execution_count": 6,
   "metadata": {
    "scrolled": false
   },
   "outputs": [],
   "source": [
    "### PREDICTION ON UNSEEN DATA\n",
    "\n",
    "#val -> test npz\n",
    "vols_names = ['vol'+str(i)+'.npz' for i in keys_test]\n",
    "\n",
    "predict_generator = vxm.generators.semisupervised(\n",
    "                        vol_names=vols_names,\n",
    "                        labels=label_vals)\n",
    "\n",
    "val_input = [next(predict_generator) for i in range(len(mask_tests))]\n",
    "\n",
    "# predict the transformation\n",
    "val_pred = []\n",
    "for i in range(len(mask_tests)):\n",
    "    val_pred.append(vxm_model.predict(val_input[i]))\n",
    "    \n",
    "#warp_generator = util.vxm_data_generator(slices_train_3d_mask,\n",
    "                                         # vol_fixed=fixed_vol,\n",
    "                                          #batch_size=1)"
   ]
  },
  {
   "cell_type": "code",
   "execution_count": null,
   "metadata": {},
   "outputs": [],
   "source": [
    "### PREDICTION ON TRAINING DATA\n",
    "\n",
    "#vol -> training npz\n",
    "vols_names_tr = ['vol'+str(i)+'.npz' for i in keys_train]\n",
    "\n",
    "predict_generator = vxm.generators.semisupervised(\n",
    "                        vol_names=vols_names_tr,\n",
    "                        labels=label_vals)\n",
    "\n",
    "\n",
    "val_input = [next(predict_generator) for i in range(len(mask_trains))]\n",
    "\n",
    "# predict the transformation\n",
    "val_pred = []\n",
    "for i in range(len(mask_trains)):\n",
    "    val_pred.append(vxm_model.predict(val_input[i]))"
   ]
  },
  {
   "cell_type": "markdown",
   "metadata": {},
   "source": [
    "# predict the transformation"
   ]
  },
  {
   "cell_type": "code",
   "execution_count": 7,
   "metadata": {},
   "outputs": [],
   "source": [
    "warp_model = vxm.networks.Transform(vol_shape, interp_method='nearest')"
   ]
  },
  {
   "cell_type": "code",
   "execution_count": 8,
   "metadata": {},
   "outputs": [
    {
     "name": "stdout",
     "output_type": "stream",
     "text": [
      "before warping (rough alignment)\n",
      "after warping\n"
     ]
    }
   ],
   "source": [
    "#checking that it's the right prediction vector\n",
    "assert (len(mask_tests) == len(val_pred))\n",
    "\n",
    "#load the test set + normalization\n",
    "#slices_test_3d_frame = np.empty((len(mask_tests),112,112,32))\n",
    "slices_test_3d_mask = np.empty((len(mask_tests),112,112,32))\n",
    "for i, key in enumerate(mask_tests):\n",
    "    #slices_test_3d_frame[i] = np.array(hf.get(key)[\"frame\"][0][:,:,:])/255\n",
    "    slices_test_3d_mask[i] = np.array(hf.get(key)[\"mask\"])\n",
    "    #slices_test_3d_mask[i][np.where(slices_train_3d_mask[i] != 4)] = 0\n",
    "\n",
    "# predict the labels transformation (unseen data)\n",
    "warped_seg = [warp_model.predict([slices_test_3d_mask[i][np.newaxis,...,np.newaxis], val_pred[i][1]]) for i in range(len(mask_tests))]\n",
    "\n",
    "dice = [vxm.py.utils.dice(slices_test_3d_mask[i], fixed_seg, label_vals) for i in range(len(mask_tests))]\n",
    "#mean_dice, std_dice = avg_dice_score(slices_test_3d_mask, fixed_seg)\n",
    "print(\"before warping (rough alignment)\")\n",
    "#print(dice.mean())\n",
    "#print(dice.std())\n",
    "warped_seg = np.array(warped_seg)\n",
    "\n",
    "dice_warp = [vxm.py.utils.dice(warped_seg.squeeze()[i], fixed_seg, label_vals) for i in range(len(mask_tests))]\n",
    "#mean_dice, std_dice = avg_dice_score(warped_seg.squeeze(), fixed_seg)\n",
    "print(\"after warping\")\n",
    "#print(dice_warp.mean())\n",
    "#print(dice_warp.std())"
   ]
  },
  {
   "cell_type": "code",
   "execution_count": 10,
   "metadata": {},
   "outputs": [],
   "source": [
    "dice = np.array(dice)\n",
    "dice_warp = np.array(dice_warp)"
   ]
  },
  {
   "cell_type": "code",
   "execution_count": 11,
   "metadata": {
    "scrolled": true
   },
   "outputs": [
    {
     "name": "stdout",
     "output_type": "stream",
     "text": [
      "0.5274078673912717\n",
      "0.22635830307831672\n",
      "***\n",
      "0.500768829989301\n",
      "0.24192872013979533\n"
     ]
    }
   ],
   "source": [
    "i =3\n",
    "print(dice[:,i].mean())\n",
    "print(dice[:,i].std())\n",
    "print('***')\n",
    "print(dice_warp[:,i].mean())\n",
    "print(dice_warp[:,i].std())"
   ]
  },
  {
   "cell_type": "code",
   "execution_count": 12,
   "metadata": {
    "scrolled": false
   },
   "outputs": [
    {
     "name": "stdout",
     "output_type": "stream",
     "text": [
      "0.3177257054361897\n",
      "0.29381780684812686\n"
     ]
    }
   ],
   "source": [
    "print(dice.mean())\n",
    "print(dice.std())"
   ]
  },
  {
   "cell_type": "code",
   "execution_count": 13,
   "metadata": {},
   "outputs": [
    {
     "name": "stdout",
     "output_type": "stream",
     "text": [
      "0.29658661146619764\n",
      "0.2914313010267186\n"
     ]
    }
   ],
   "source": [
    "print(dice_warp.mean())\n",
    "print(dice_warp.std())"
   ]
  },
  {
   "cell_type": "code",
   "execution_count": 11,
   "metadata": {},
   "outputs": [
    {
     "name": "stdout",
     "output_type": "stream",
     "text": [
      "before warping (rough alignment)\n",
      "0.6684424624287555\n",
      "0.29168842949727697\n",
      "after warping\n",
      "0.690531489514495\n",
      "0.2540972284700225\n"
     ]
    }
   ],
   "source": [
    "#checking that it's the right prediction vector\n",
    "assert (len(mask_trains) == len(val_pred))\n",
    "    \n",
    "#load the training set + normalization\n",
    "#slices_train_3d_frame = np.empty((len(mask_trains),112,112,32))\n",
    "slices_train_3d_mask = np.empty((len(mask_trains),112,112,32))\n",
    "for i, key in enumerate(mask_trains):\n",
    "    #slices_train_3d_frame[i] = np.array(hf.get(key)[\"frame\"][0][:,:,:])/255\n",
    "    slices_train_3d_mask[i] = np.array(hf.get(key)[\"mask\"])\n",
    "    #slices_train_3d_mask[i][np.where(slices_train_3d_mask[i] != 4)] = 0\n",
    "\n",
    "# predict the labels transformation (training data)\n",
    "warped_seg = [warp_model.predict([slices_train_3d_mask[i][np.newaxis,...,np.newaxis], val_pred[i][1]]) for i in range(len(mask_trains))]\n",
    "means_dice_no_warp = vxm.py.utils.dice(slices_train_3d_mask, fixed_seg, label_vals)\n",
    "#mean_dice, std_dice = avg_dice_score(slices_train_3d_mask, fixed_seg)\n",
    "print(\"before warping (rough alignment)\")\n",
    "print(means_dice_no_warp.mean())\n",
    "print(means_dice_no_warp.std())\n",
    "\n",
    "warped_seg = np.array(warped_seg)\n",
    "means_dice_warp = vxm.py.utils.dice(warped_seg.squeeze(), fixed_seg, label_vals)\n",
    "#mean_dice, std_dice = avg_dice_score(warped_seg.squeeze(), fixed_seg)\n",
    "print(\"after warping\")\n",
    "print(means_dice_warp.mean())\n",
    "print(means_dice_warp.std())"
   ]
  },
  {
   "cell_type": "code",
   "execution_count": 23,
   "metadata": {},
   "outputs": [
    {
     "data": {
      "text/plain": [
       "'500'"
      ]
     },
     "execution_count": 23,
     "metadata": {},
     "output_type": "execute_result"
    }
   ],
   "source": [
    "mask_tests[6]"
   ]
  },
  {
   "cell_type": "code",
   "execution_count": 9,
   "metadata": {},
   "outputs": [],
   "source": [
    "idx=6\n",
    "slic = [np.max(slices_test_3d_mask[idx],axis=2),\n",
    "                np.max(fixed_seg, axis=2),\n",
    "                np.max(warped_seg[idx].squeeze(),axis=2),\n",
    "       np.max(slices_test_3d_mask[idx],axis=1),\n",
    "                np.max(fixed_seg, axis=1),\n",
    "                np.max(warped_seg[idx].squeeze(),axis=1),\n",
    "       np.max(slices_test_3d_mask[idx],axis=0),\n",
    "                np.max(fixed_seg, axis=0),\n",
    "                np.max(warped_seg[idx].squeeze(),axis=0)]"
   ]
  },
  {
   "cell_type": "code",
   "execution_count": 15,
   "metadata": {
    "scrolled": true
   },
   "outputs": [
    {
     "data": {
      "image/png": "[encoded data removed]",
      "text/plain": [
       "<Figure size 1080x1080 with 9 Axes>"
      ]
     },
     "metadata": {
      "needs_background": "light"
     },
     "output_type": "display_data"
    }
   ],
   "source": [
    "\n",
    "titles = ['hand-made labels', 'atlas labels', 'atlas labels warped',\n",
    "          'X-axis MIP', 'X-axis MIP', 'X-axis MIP',\n",
    "          'Y-axis MIP', 'Y-axis MIP', 'Y-axis MIP',\n",
    "         ]\n",
    "ne.plot.slices(slic,\n",
    "              titles=titles,\n",
    "              grid=(3,3))\n",
    "plt.show()"
   ]
  },
  {
   "cell_type": "markdown",
   "metadata": {},
   "source": [
    "## Normalized cross correlation"
   ]
  },
  {
   "cell_type": "code",
   "execution_count": 14,
   "metadata": {},
   "outputs": [],
   "source": [
    "#ground truth\n",
    "gt = []\n",
    "#vxm perf\n",
    "vxm = []\n",
    "for i in range(len(slices_test_3d_mask)):\n",
    "    #rough prealign\n",
    "    gt.append(np.corrcoef(slices_test_3d_mask[i].ravel(),\n",
    "                    fixed_seg.ravel())[0,1])\n",
    "    \n",
    "    \n",
    "    #after morphing\n",
    "    vxm.append(np.corrcoef(slices_test_3d_mask[i].ravel(),\n",
    "                    warped_seg[i].squeeze().ravel())[0,1])"
   ]
  },
  {
   "cell_type": "code",
   "execution_count": 15,
   "metadata": {},
   "outputs": [
    {
     "data": {
      "text/plain": [
       "0.4549534176719892"
      ]
     },
     "execution_count": 15,
     "metadata": {},
     "output_type": "execute_result"
    }
   ],
   "source": [
    "np.array(gt).mean()"
   ]
  },
  {
   "cell_type": "code",
   "execution_count": 16,
   "metadata": {
    "scrolled": false
   },
   "outputs": [
    {
     "data": {
      "text/plain": [
       "0.6658565227470905"
      ]
     },
     "execution_count": 16,
     "metadata": {},
     "output_type": "execute_result"
    }
   ],
   "source": [
    "np.array(vxm).mean()"
   ]
  },
  {
   "cell_type": "code",
   "execution_count": 17,
   "metadata": {},
   "outputs": [
    {
     "data": {
      "text/plain": [
       "0.2591554221503907"
      ]
     },
     "execution_count": 17,
     "metadata": {},
     "output_type": "execute_result"
    }
   ],
   "source": [
    "np.array(gt).std()"
   ]
  },
  {
   "cell_type": "code",
   "execution_count": 18,
   "metadata": {},
   "outputs": [
    {
     "data": {
      "text/plain": [
       "0.1512731612585229"
      ]
     },
     "execution_count": 18,
     "metadata": {},
     "output_type": "execute_result"
    }
   ],
   "source": [
    "np.array(vxm).std()"
   ]
  },
  {
   "cell_type": "code",
   "execution_count": null,
   "metadata": {},
   "outputs": [],
   "source": []
  },
  {
   "cell_type": "code",
   "execution_count": null,
   "metadata": {},
   "outputs": [],
   "source": []
  }
 ],
 "metadata": {
  "kernelspec": {
   "display_name": "pyt3.8",
   "language": "python",
   "name": "pyt3.8"
  },
  "language_info": {
   "codemirror_mode": {
    "name": "ipython",
    "version": 3
   },
   "file_extension": ".py",
   "mimetype": "text/x-python",
   "name": "python",
   "nbconvert_exporter": "python",
   "pygments_lexer": "ipython3",
   "version": "3.8.6"
  }
 },
 "nbformat": 4,
 "nbformat_minor": 4
}
